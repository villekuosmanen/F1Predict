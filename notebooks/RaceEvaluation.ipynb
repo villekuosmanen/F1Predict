{
 "cells": [
  {
   "cell_type": "markdown",
   "metadata": {},
   "source": [
    "# Race model evaluation\n",
    "\n",
    "Current minimal MAE: 81.3"
   ]
  },
  {
   "cell_type": "code",
   "execution_count": 1,
   "metadata": {},
   "outputs": [],
   "source": [
    "import statistics\n",
    "import pickle\n",
    "import numpy as np\n",
    "import json\n",
    "import matplotlib.pyplot as plt\n",
    "%matplotlib inline\n",
    "\n",
    "from f1predict.race.DataProcessor import DataProcessor\n",
    "from f1predict.race.baseline.RandomModel import RandomModel\n",
    "from f1predict.race.baseline.ResultsGetter import ResultsGetter\n",
    "from f1predict.race.baseline.QualiOrderModel import QualiOrderModel"
   ]
  },
  {
   "cell_type": "code",
   "execution_count": 2,
   "metadata": {},
   "outputs": [],
   "source": [
    "with open('../data/raceSeasonsData.pickle', 'rb') as handle:\n",
    "    seasonsData = pickle.load(handle)\n",
    "    \n",
    "with open('../data/raceResultsData.pickle', 'rb') as handle:\n",
    "    raceResultsData = pickle.load(handle)\n",
    "    \n",
    "with open('../data/driversData.pickle', 'rb') as handle:\n",
    "    driversData = pickle.load(handle)\n",
    "    \n",
    "with open('../data/constructorsData.pickle', 'rb') as handle:\n",
    "    constructorsData = pickle.load(handle)\n",
    "    \n",
    "with open('../data/enginesData.pickle', 'rb') as handle:\n",
    "    enginesData = pickle.load(handle)\n",
    "    \n",
    "with open('../data/qualiResultsData.pickle', 'rb') as handle:\n",
    "    qualiResultsData = pickle.load(handle)\n",
    "    \n",
    "resultsGetter = ResultsGetter(seasonsData, raceResultsData)\n",
    "randomModel = RandomModel(seasonsData, raceResultsData)\n",
    "qualiResultsModel = QualiOrderModel(seasonsData, raceResultsData, qualiResultsData)\n",
    "eloModel = DataProcessor(seasonsData, raceResultsData, driversData, constructorsData, enginesData)"
   ]
  },
  {
   "cell_type": "code",
   "execution_count": null,
   "metadata": {},
   "outputs": [],
   "source": [
    "randomPredictions = randomModel.constructPredictions()\n",
    "predictionsBasedOnQualiResults = qualiResultsModel.constructPredictions()\n",
    "eloModel.processDataset()\n",
    "eloPredictions = eloModel.getPredictions()\n",
    "\n",
    "results = resultsGetter.constructRaceResults()"
   ]
  },
  {
   "cell_type": "code",
   "execution_count": null,
   "metadata": {},
   "outputs": [],
   "source": [
    "randomModelErrors = []\n",
    "qualiModelErrors = []\n",
    "eloModelErrors = []\n",
    "for i, res in enumerate(results):\n",
    "    randomErrs = []\n",
    "    qualiErrs = []\n",
    "    eloErrs = []\n",
    "    for pos, driver_id in enumerate(results[i]):\n",
    "        randomModel_pos = randomPredictions[i].index(driver_id)\n",
    "        randomErrs.append(abs(pos - randomModel_pos))\n",
    "        \n",
    "        qualiModel_pos = predictionsBasedOnQualiResults[i].index(driver_id)\n",
    "        qualiErrs.append(abs(pos - qualiModel_pos))\n",
    "        \n",
    "        eloModel_pos = eloPredictions[i].index(driver_id)\n",
    "        eloErrs.append(abs(pos - eloModel_pos))\n",
    "    randomModelErrors.append(sum(randomErrs))\n",
    "    qualiModelErrors.append(sum(qualiErrs))\n",
    "    eloModelErrors.append(sum(eloErrs))\n",
    "\n",
    "print('Random model MAE: {}'.format(statistics.mean(randomModelErrors)))\n",
    "print('Random model MedianAE: {}'.format(statistics.median(randomModelErrors)))\n",
    "\n",
    "print('Quali position model MAE: {}'.format(statistics.mean(qualiModelErrors)))\n",
    "print('Quali position model MedianAE: {}'.format(statistics.median(qualiModelErrors)))\n",
    "\n",
    "print('Elo model MAE: {}'.format(statistics.mean(eloModelErrors)))\n",
    "print('Elo model MedianAE: {}'.format(statistics.median(eloModelErrors)))\n"
   ]
  },
  {
   "cell_type": "code",
   "execution_count": null,
   "metadata": {},
   "outputs": [],
   "source": [
    "plt.figure(figsize=(20,10))\n",
    "plt.xlabel('Race id')\n",
    "plt.ylabel('Mean Absolute Error (MAE)')\n",
    "plt.plot(randomModelErrors)\n",
    "plt.plot(qualiModelErrors)\n",
    "plt.plot(eloModelErrors)\n",
    "plt.legend([\"Random model\", \"Qualifying results model\", \"Elo model\"])\n",
    "plt.show()"
   ]
  },
  {
   "cell_type": "code",
   "execution_count": null,
   "metadata": {},
   "outputs": [],
   "source": []
  },
  {
   "cell_type": "code",
   "execution_count": null,
   "metadata": {},
   "outputs": [],
   "source": []
  }
 ],
 "metadata": {
  "kernelspec": {
   "display_name": "Python 3",
   "language": "python",
   "name": "python3"
  },
  "language_info": {
   "codemirror_mode": {
    "name": "ipython",
    "version": 3
   },
   "file_extension": ".py",
   "mimetype": "text/x-python",
   "name": "python",
   "nbconvert_exporter": "python",
   "pygments_lexer": "ipython3",
   "version": "3.7.9"
  }
 },
 "nbformat": 4,
 "nbformat_minor": 2
}
