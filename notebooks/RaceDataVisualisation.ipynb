{
 "cells": [
  {
   "cell_type": "markdown",
   "metadata": {},
   "source": [
    "# A Notebook for investigating F1 race data"
   ]
  },
  {
   "cell_type": "code",
   "execution_count": 1,
   "metadata": {},
   "outputs": [],
   "source": [
    "import pymysql\n",
    "import pymysql.cursors\n",
    "import pandas as pd\n",
    "import numpy as np\n",
    "import matplotlib.pyplot as plt\n",
    "import statistics\n",
    "\n",
    "from f1predict.common import file_operations\n",
    "from f1predict.common import common"
   ]
  },
  {
   "cell_type": "code",
   "execution_count": 2,
   "metadata": {},
   "outputs": [],
   "source": [
    "USER_VARS = file_operations.getUserVariables(\"../user_variables.txt\")\n",
    "\n",
    "#Set up a database connection:\n",
    "connection = pymysql.connect(host='localhost',\n",
    "                             user=USER_VARS['db_username'],\n",
    "                             password=USER_VARS['db_password'],\n",
    "                             db=USER_VARS['db_database'],\n",
    "                             charset='utf8',\n",
    "                             cursorclass=pymysql.cursors.DictCursor)"
   ]
  },
  {
   "cell_type": "code",
   "execution_count": 3,
   "metadata": {},
   "outputs": [],
   "source": [
    "raceResultsByGridPosition = {}\n",
    "\n",
    "with connection.cursor() as cursor:\n",
    "    for year in range(2003, common.getCurrentYear() + 1):\n",
    "        sql = \"SELECT `raceId`, `round`, `circuitId`, `name` FROM `races` WHERE `year`=%s\"\n",
    "        cursor.execute(sql, year)\n",
    "        result = cursor.fetchall()\n",
    "\n",
    "        for x in result:\n",
    "            circuitId = x.get('circuitId')        \n",
    "            sql = \"SELECT `driverId`, `constructorId`, `position`, `grid` FROM `results` WHERE `raceId`=%s\"\n",
    "            cursor.execute(sql, x.get('raceId'))\n",
    "            result = cursor.fetchall()\n",
    "\n",
    "            if result:\n",
    "                result.sort(key=lambda result: (result['position'] is None, result['position']))\n",
    "                for row in result:\n",
    "                    if row['position']:\n",
    "                        if row['grid'] not in raceResultsByGridPosition and row['grid'] > 0:\n",
    "                            raceResultsByGridPosition[row['grid']] = []\n",
    "                        if row['grid'] > 0:\n",
    "                            raceResultsByGridPosition[row['grid']].append(row['position'])"
   ]
  },
  {
   "cell_type": "code",
   "execution_count": 22,
   "metadata": {},
   "outputs": [
    {
     "name": "stdout",
     "output_type": "stream",
     "text": [
      "Finished: 3245\n",
      "Collision: 285\n",
      "Accident: 220\n",
      "Engine: 174\n",
      "Gearbox: 101\n",
      "Hydraulics: 82\n",
      "Brakes: 74\n",
      "Spun off: 65\n",
      "Suspension: 64\n",
      "Retired: 61\n",
      "Electrical: 34\n",
      "Power Unit: 33\n",
      "Collision damage: 27\n",
      "Disqualified: 25\n",
      "Withdrew: 25\n",
      "Wheel: 24\n",
      "Transmission: 22\n",
      "Mechanical: 19\n",
      "Puncture: 16\n",
      "Driveshaft: 16\n",
      "Oil leak: 15\n",
      "Tyre: 14\n",
      "Fuel pressure: 14\n",
      "Clutch: 13\n",
      "Electronics: 10\n",
      "Power loss: 10\n",
      "Overheating: 9\n",
      "Throttle: 8\n",
      "Wheel nut: 8\n",
      "Exhaust: 8\n",
      "Steering: 7\n",
      "Fuel system: 6\n",
      "Water leak: 6\n",
      "Battery: 5\n",
      "Out of fuel: 5\n",
      "ERS: 5\n",
      "Water pressure: 5\n",
      "Rear wing: 5\n",
      "Did not qualify: 4\n",
      "Vibrations: 4\n",
      "Technical: 4\n",
      "Oil pressure: 4\n",
      "Pneumatics: 4\n",
      "Turbo: 4\n",
      "Front wing: 4\n",
      "Alternator: 3\n",
      "Radiator: 3\n",
      "Fuel pump: 2\n",
      "Track rod: 2\n",
      "Injured: 2\n",
      "Heat shield fire: 2\n",
      "Wheel rim: 2\n",
      "Excluded: 1\n",
      "Oil line: 1\n",
      "Tyre puncture: 1\n",
      "Fuel rig: 1\n",
      "Driver Seat: 1\n",
      "Seat: 1\n",
      "Launch control: 1\n",
      "Injury: 1\n",
      "Not classified: 1\n",
      "Spark plugs: 1\n",
      "Broken wing: 1\n",
      "Fuel: 1\n",
      "Damage: 1\n",
      "Differential: 1\n",
      "Debris: 1\n",
      "Handling: 1\n",
      "Drivetrain: 1\n",
      "Refuelling: 1\n",
      "Fire: 1\n",
      "Engine misfire: 1\n",
      "Engine fire: 1\n",
      "Brake duct: 1\n"
     ]
    }
   ],
   "source": [
    "with connection.cursor() as cursor:\n",
    "    sql = \"SELECT `status`.status, COUNT(*) AS `count` FROM `status`, `results`, `races` \\\n",
    "        WHERE `status`.statusId = `results`.statusId AND `results`.raceId = `races`.raceId AND `races`.year >= 2003 \\\n",
    "        GROUP BY `results`.statusId \\\n",
    "        ORDER BY COUNT(*) DESC\"\n",
    "    cursor.execute(sql)\n",
    "    result = cursor.fetchall()\n",
    "    for x in result:\n",
    "        if \" Lap\" not in x.get('status'):\n",
    "            print(\"{}: {}\".format(x.get('status'), x.get('count')))"
   ]
  },
  {
   "cell_type": "code",
   "execution_count": null,
   "metadata": {},
   "outputs": [],
   "source": []
  }
 ],
 "metadata": {
  "kernelspec": {
   "display_name": "Python 3",
   "language": "python",
   "name": "python3"
  },
  "language_info": {
   "codemirror_mode": {
    "name": "ipython",
    "version": 3
   },
   "file_extension": ".py",
   "mimetype": "text/x-python",
   "name": "python",
   "nbconvert_exporter": "python",
   "pygments_lexer": "ipython3",
   "version": "3.7.9"
  }
 },
 "nbformat": 4,
 "nbformat_minor": 2
}