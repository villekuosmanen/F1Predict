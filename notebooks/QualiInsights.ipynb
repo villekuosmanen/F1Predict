{
 "cells": [
  {
   "cell_type": "code",
   "execution_count": 1,
   "metadata": {},
   "outputs": [],
   "source": [
    "import statistics\n",
    "import pickle\n",
    "import numpy as np\n",
    "import json\n",
    "import matplotlib.pyplot as plt\n",
    "%matplotlib inline\n",
    "\n",
    "from f1predict.quali.utils import overwriteQualiModelWithNewDrivers"
   ]
  },
  {
   "cell_type": "code",
   "execution_count": 2,
   "metadata": {},
   "outputs": [],
   "source": [
    "with open('../out/trained_quali_model.pickle', 'rb') as handle:\n",
    "    linearModel = pickle.load(handle)\n",
    "    \n",
    "overwriteQualiModelWithNewDrivers(linearModel, '../data/newDrivers.json')"
   ]
  },
  {
   "cell_type": "code",
   "execution_count": 3,
   "metadata": {},
   "outputs": [
    {
     "name": "stdout",
     "output_type": "stream",
     "text": [
      "Driver insights:\n",
      "Max Verstappen: -0.5229378469654977 (variance: 0.5346209590694327)\n",
      "Lando Norris: -0.3922902945136218 (variance: 0.6433739531203528)\n",
      "Charles Leclerc: -0.30802046420716733 (variance: 0.6268085266234709)\n",
      "Lewis Hamilton: -0.26851062915572005 (variance: 0.4630789863191164)\n",
      "Pierre Gasly: -0.24935325450741583 (variance: 0.6485573274943948)\n",
      "Carlos Sainz: -0.09281461568629032 (variance: 0.5337112225617733)\n",
      "Valtteri Bottas: -0.08518400357509061 (variance: 0.3701291346945996)\n",
      "George Russell: -0.04631248034875108 (variance: 0.7275743677674338)\n",
      "Antonio Giovinazzi: -0.04005367035985888 (variance: 0.46914218735707386)\n",
      "Sergio Pérez: -0.004422908699917095 (variance: 0.43983275094884766)\n",
      "Daniel Ricciardo: 0.09938973089436028 (variance: 0.6195699694881222)\n",
      "Fernando Alonso: 0.13533024910101238 (variance: 0.6087463789579572)\n",
      "Esteban Ocon: 0.14875338147944367 (variance: 0.6230396947592074)\n",
      "Lance Stroll: 0.20812424269395421 (variance: 0.5119923974375318)\n",
      "Sebastian Vettel: 0.32475886933214204 (variance: 0.5208037256870683)\n",
      "Kimi Räikkönen: 0.5488251477081849 (variance: 0.7121360185127983)\n",
      "Yuki Tsunoda: 0.6280794781030522 (variance: 1.2156215193618713)\n",
      "Mick Schumacher: 0.6906843613894031 (variance: 0.7054320805903171)\n",
      "Nicholas Latifi: 1.0718315188336773 (variance: 0.4521587802639808)\n",
      "Nikita Mazepin: 1.3665399868421189 (variance: 0.6244785737712946)\n"
     ]
    }
   ],
   "source": [
    "newDrivers = json.load(open('../data/newDrivers.json'))[\"drivers\"]\n",
    "driverIDs = [int(did) for did, cid in newDrivers.items()]\n",
    "\n",
    "print(\"Driver insights:\")\n",
    "driversByScore = []\n",
    "for did in driverIDs:\n",
    "    driversByScore.append((linearModel.drivers[did].name, linearModel.drivers[did].pwr, linearModel.drivers[did].variance))\n",
    "\n",
    "driversByScore.sort(key=lambda tup: tup[1])\n",
    "for name, score, variance in driversByScore:\n",
    "    print(\"{}: {} (variance: {})\".format(name, score, variance))"
   ]
  },
  {
   "cell_type": "code",
   "execution_count": 4,
   "metadata": {},
   "outputs": [
    {
     "name": "stdout",
     "output_type": "stream",
     "text": [
      "Constructor insights:\n",
      "Mercedes: -0.5187421431248395 (variance: 0.4289483126807082)\n",
      "Red Bull: -0.508503559351721 (variance: 0.34494439039665925)\n",
      "Ferrari: -0.20617829021044995 (variance: 0.6265723887021709)\n",
      "AlphaTauri: -0.1707580573154822 (variance: 0.655642611998981)\n",
      "McLaren: -0.12117996092776 (variance: 0.32974827281431046)\n",
      "Aston Martin: 0.016902985509166833 (variance: 0.39160225416887906)\n",
      "Alpine F1 Team: 0.06938877800454854 (variance: 0.4155856924325455)\n",
      "Williams: 0.2858172071631062 (variance: 0.43269593082485647)\n",
      "Alfa Romeo: 0.29953177154107863 (variance: 0.5612453371305237)\n",
      "Haas F1 Team: 0.8955769636351937 (variance: 0.546164636698933)\n"
     ]
    }
   ],
   "source": [
    "print(\"Constructor insights:\")\n",
    "constructorsByScore = []\n",
    "constructors = set()\n",
    "for did in driverIDs:\n",
    "    if linearModel.drivers[did].constructor.name not in constructors:\n",
    "        constructorsByScore.append((linearModel.drivers[did].constructor.name, linearModel.drivers[did].constructor.pwr, linearModel.drivers[did].constructor.variance))\n",
    "        constructors.add(linearModel.drivers[did].constructor.name)\n",
    "\n",
    "constructorsByScore.sort(key=lambda tup: tup[1])\n",
    "for name, score, variance in constructorsByScore:\n",
    "    print(\"{}: {} (variance: {})\".format(name, score, variance))"
   ]
  },
  {
   "cell_type": "code",
   "execution_count": 5,
   "metadata": {},
   "outputs": [
    {
     "name": "stdout",
     "output_type": "stream",
     "text": [
      "Engine insights:\n",
      "Mercedes: -0.22902804990666972 (variance: 0.4219459798007611)\n",
      "Renault: 0.02241112439939676 (variance: 0.4106290279103022)\n",
      "Ferrari: 0.2720449185672815 (variance: 0.6454561235694194)\n",
      "Honda: 0.376832615917477 (variance: 0.5782604858739203)\n"
     ]
    }
   ],
   "source": [
    "print(\"Engine insights:\")\n",
    "enginesByScore = []\n",
    "engines = set()\n",
    "for did in driverIDs:\n",
    "    if linearModel.drivers[did].constructor.engine.name not in engines:\n",
    "        enginesByScore.append((linearModel.drivers[did].constructor.engine.name, linearModel.drivers[did].constructor.engine.pwr, linearModel.drivers[did].constructor.engine.variance))\n",
    "        engines.add(linearModel.drivers[did].constructor.engine.name)\n",
    "\n",
    "enginesByScore.sort(key=lambda tup: tup[1])\n",
    "for name, score, variance in enginesByScore:\n",
    "    print(\"{}: {} (variance: {})\".format(name, score, variance))"
   ]
  },
  {
   "cell_type": "code",
   "execution_count": null,
   "metadata": {},
   "outputs": [],
   "source": []
  }
 ],
 "metadata": {
  "kernelspec": {
   "display_name": "Python 3",
   "language": "python",
   "name": "python3"
  },
  "language_info": {
   "codemirror_mode": {
    "name": "ipython",
    "version": 3
   },
   "file_extension": ".py",
   "mimetype": "text/x-python",
   "name": "python",
   "nbconvert_exporter": "python",
   "pygments_lexer": "ipython3",
   "version": "3.7.9"
  }
 },
 "nbformat": 4,
 "nbformat_minor": 2
}
