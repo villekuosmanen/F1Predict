{
 "cells": [
  {
   "cell_type": "code",
   "execution_count": 1,
   "metadata": {},
   "outputs": [],
   "source": [
    "import statistics\n",
    "import pickle\n",
    "import numpy as np\n",
    "import json\n",
    "import matplotlib.pyplot as plt\n",
    "%matplotlib inline\n",
    "\n",
    "from f1predict.quali.utils import overwriteQualiModelWithNewDrivers"
   ]
  },
  {
   "cell_type": "code",
   "execution_count": 2,
   "metadata": {},
   "outputs": [],
   "source": [
    "with open('../out/trained_quali_model.pickle', 'rb') as handle:\n",
    "    linearModel = pickle.load(handle)\n",
    "    \n",
    "overwriteQualiModelWithNewDrivers(linearModel, '../data/newDrivers.json')"
   ]
  },
  {
   "cell_type": "code",
   "execution_count": 5,
   "metadata": {},
   "outputs": [
    {
     "name": "stdout",
     "output_type": "stream",
     "text": [
      "Driver insights:\n",
      "Lewis Hamilton: -0.4599905943428955 (variance: 0.4479401124640663)\n",
      "Max Verstappen: -0.35747177326924984 (variance: 0.504717841231171)\n",
      "Daniel Ricciardo: -0.3061272019581732 (variance: 0.5246542834718784)\n",
      "Valtteri Bottas: -0.25475862255244575 (variance: 0.5966048313425591)\n",
      "Carlos Sainz: -0.1700729164611135 (variance: 0.2960061797822576)\n",
      "Lando Norris: -0.11966030843335818 (variance: 0.2919414961991803)\n",
      "Sergio Pérez: -0.0595213889947079 (variance: 0.6538825773955842)\n",
      "Charles Leclerc: -0.018912443647900255 (variance: 0.5465771424414932)\n",
      "Esteban Ocon: -0.0038658460129590818 (variance: 0.4934440254317545)\n",
      "Pierre Gasly: 0.0384094425519347 (variance: 0.48178739864120956)\n",
      "Lance Stroll: 0.15155938717460327 (variance: 0.5612742715640879)\n",
      "Kimi Räikkönen: 0.2652613253813125 (variance: 0.7399416255164569)\n",
      "Daniil Kvyat: 0.2762458334232417 (variance: 0.33126072462111683)\n",
      "Alexander Albon: 0.36738475390095704 (variance: 0.5631266963071984)\n",
      "Romain Grosjean: 0.38089570498066383 (variance: 0.533077147291186)\n",
      "Kevin Magnussen: 0.41454988489619515 (variance: 0.503321961225268)\n",
      "Sebastian Vettel: 0.42526948091289196 (variance: 0.8004864450894527)\n",
      "Antonio Giovinazzi: 0.4614433646959431 (variance: 0.4167644980512095)\n",
      "George Russell: 0.5867090594211377 (variance: 0.6355819063335323)\n",
      "Nicholas Latifi: 1.1587261039205174 (variance: 0.7341021982946314)\n"
     ]
    }
   ],
   "source": [
    "newDrivers = json.load(open('../data/newDrivers.json'))[\"drivers\"]\n",
    "driverIDs = [int(did) for did, cid in newDrivers.items()]\n",
    "\n",
    "print(\"Driver insights:\")\n",
    "driversByScore = []\n",
    "for did in driverIDs:\n",
    "    driversByScore.append((linearModel.drivers[did].name, linearModel.drivers[did].pwr, linearModel.drivers[did].variance))\n",
    "\n",
    "driversByScore.sort(key=lambda tup: tup[1])\n",
    "for name, score, variance in driversByScore:\n",
    "    print(\"{}: {} (variance: {})\".format(name, score, variance))"
   ]
  },
  {
   "cell_type": "code",
   "execution_count": 6,
   "metadata": {},
   "outputs": [
    {
     "name": "stdout",
     "output_type": "stream",
     "text": [
      "Constructor insights:\n",
      "Mercedes: -0.7464144386871003 (variance: 0.47340459197918217)\n",
      "Red Bull: -0.4847594382315 (variance: 0.43899845517522934)\n",
      "Racing Point: -0.16892798622525204 (variance: 0.4738921174716692)\n",
      "McLaren: -0.128571673410954 (variance: 0.3152592172498319)\n",
      "Renault: -0.09265825914000839 (variance: 0.44574899883374375)\n",
      "Ferrari: -0.07578504589214437 (variance: 0.5974319051974416)\n",
      "AlphaTauri: -0.06343268108557022 (variance: 0.3883332312181662)\n",
      "Haas F1 Team: 0.4170752632547222 (variance: 0.4491984036958614)\n",
      "Williams: 0.4242225216270888 (variance: 0.4688240512641997)\n",
      "Alfa Romeo: 0.5056281925277557 (variance: 0.5092757151149282)\n"
     ]
    }
   ],
   "source": [
    "print(\"Constructor insights:\")\n",
    "constructorsByScore = []\n",
    "constructors = set()\n",
    "for did in driverIDs:\n",
    "    if linearModel.drivers[did].constructor.name not in constructors:\n",
    "        constructorsByScore.append((linearModel.drivers[did].constructor.name, linearModel.drivers[did].constructor.pwr, linearModel.drivers[did].constructor.variance))\n",
    "        constructors.add(linearModel.drivers[did].constructor.name)\n",
    "\n",
    "constructorsByScore.sort(key=lambda tup: tup[1])\n",
    "for name, score, variance in constructorsByScore:\n",
    "    print(\"{}: {} (variance: {})\".format(name, score, variance))"
   ]
  },
  {
   "cell_type": "code",
   "execution_count": 7,
   "metadata": {},
   "outputs": [
    {
     "name": "stdout",
     "output_type": "stream",
     "text": [
      "Engine insights:\n",
      "Mercedes: -0.28415325500986544 (variance: 0.3899696229363071)\n",
      "Renault: -0.05736677563773369 (variance: 0.37490206198646087)\n",
      "Ferrari: 0.258268133033772 (variance: 0.5327176293356781)\n",
      "Honda: 0.39432089878030147 (variance: 0.5851885258168996)\n"
     ]
    }
   ],
   "source": [
    "print(\"Engine insights:\")\n",
    "enginesByScore = []\n",
    "engines = set()\n",
    "for did in driverIDs:\n",
    "    if linearModel.drivers[did].constructor.engine.name not in engines:\n",
    "        enginesByScore.append((linearModel.drivers[did].constructor.engine.name, linearModel.drivers[did].constructor.engine.pwr, linearModel.drivers[did].constructor.engine.variance))\n",
    "        engines.add(linearModel.drivers[did].constructor.engine.name)\n",
    "\n",
    "enginesByScore.sort(key=lambda tup: tup[1])\n",
    "for name, score, variance in enginesByScore:\n",
    "    print(\"{}: {} (variance: {})\".format(name, score, variance))"
   ]
  },
  {
   "cell_type": "code",
   "execution_count": null,
   "metadata": {},
   "outputs": [],
   "source": []
  }
 ],
 "metadata": {
  "kernelspec": {
   "display_name": "Python 3",
   "language": "python",
   "name": "python3"
  },
  "language_info": {
   "codemirror_mode": {
    "name": "ipython",
    "version": 3
   },
   "file_extension": ".py",
   "mimetype": "text/x-python",
   "name": "python",
   "nbconvert_exporter": "python",
   "pygments_lexer": "ipython3",
   "version": "3.7.9"
  }
 },
 "nbformat": 4,
 "nbformat_minor": 2
}
