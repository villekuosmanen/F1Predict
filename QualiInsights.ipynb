{
 "cells": [
  {
   "cell_type": "code",
   "execution_count": 1,
   "metadata": {},
   "outputs": [],
   "source": [
    "import statistics\n",
    "import pickle\n",
    "import numpy as np\n",
    "import json\n",
    "import matplotlib.pyplot as plt\n",
    "%matplotlib inline\n",
    "\n",
    "from python import *"
   ]
  },
  {
   "cell_type": "code",
   "execution_count": 2,
   "metadata": {},
   "outputs": [],
   "source": [
    "linearModel = None\n",
    "with open('out/trained_cleaner.pickle', 'rb') as handle:\n",
    "    linearModel = pickle.load(handle)\n",
    "    \n",
    "newDrivers = json.load(open('data/newDrivers.json'))[\"drivers\"]\n",
    "newDrivers = {int(did): cid for did, cid in newDrivers.items()}\n",
    "\n",
    "# Set up drivers\n",
    "for did, cid in newDrivers.items():\n",
    "    if int(did) == -1:  # Cases when driver doesn't exist in data\n",
    "        linearModel.addNewDriver(int(did), \"__PLACEHOLDER__\", cid)\n",
    "    if not cid == \"\":\n",
    "        linearModel.drivers[int(did)].constructor = linearModel.constructors[int(cid)]   # Data in newDrivers.json overwrites database"
   ]
  },
  {
   "cell_type": "code",
   "execution_count": 8,
   "metadata": {},
   "outputs": [
    {
     "name": "stdout",
     "output_type": "stream",
     "text": [
      "Driver insights:\n",
      "Max Verstappen: -0.3282937698168914 (variance: 0.5741121567022416)\n",
      "Lewis Hamilton: -0.23265525773175738 (variance: 0.35957623380755566)\n",
      "Charles Leclerc: -0.23046450971762236 (variance: 0.5385044107978718)\n",
      "Sebastian Vettel: -0.18303830361403975 (variance: 0.6344418110699757)\n",
      "Daniel Ricciardo: -0.14819439692447806 (variance: 0.5196115684058871)\n",
      "Valtteri Bottas: -0.12001590963702011 (variance: 0.4222221831008396)\n",
      "Carlos Sainz: -0.07005754970997459 (variance: 0.48048027998172416)\n",
      "Lando Norris: 0.003868917732481358 (variance: 0.455025709199226)\n",
      "Alexander Albon: 0.07686714839526793 (variance: 0.6550888592851598)\n",
      "Sergio Pérez: 0.09142765451611107 (variance: 0.9226185188866383)\n",
      "Pierre Gasly: 0.10840154983271294 (variance: 0.5209667969842828)\n",
      "Kimi Räikkönen: 0.11250307811265248 (variance: 1.0142500044788894)\n",
      "Esteban Ocon: 0.12711386805878674 (variance: 0.78528676525934)\n",
      "Romain Grosjean: 0.15544573392335123 (variance: 0.8224196594952415)\n",
      "Kevin Magnussen: 0.19348550347914295 (variance: 0.7459760671641444)\n",
      "Daniil Kvyat: 0.2035451210905887 (variance: 0.856339919340362)\n",
      "Antonio Giovinazzi: 0.23342021269395763 (variance: 0.7452413131737132)\n",
      "Lance Stroll: 0.5064415537579856 (variance: 0.7268163196305133)\n",
      "Nicholas Latifi: 0.7810033730631363 (variance: 1.7092499724233583)\n",
      "George Russell: 0.8639111343051955 (variance: 0.42195963121981833)\n"
     ]
    }
   ],
   "source": [
    "print(\"Driver insights:\")\n",
    "driversByScore = []\n",
    "for did in newDrivers:\n",
    "    driversByScore.append((linearModel.drivers[did].name, linearModel.drivers[did].pwr, linearModel.drivers[did].variance))\n",
    "\n",
    "driversByScore.sort(key=lambda tup: tup[1])\n",
    "for name, score, variance in driversByScore:\n",
    "    print(\"{}: {} (variance: {})\".format(name, score, variance))"
   ]
  },
  {
   "cell_type": "code",
   "execution_count": 10,
   "metadata": {},
   "outputs": [
    {
     "name": "stdout",
     "output_type": "stream",
     "text": [
      "Constructor insights:\n",
      "Mercedes: -0.5588272723690576 (variance: 0.3522199110707502)\n",
      "Red Bull: -0.5477845178917554 (variance: 0.44160070681674424)\n",
      "Ferrari: -0.47034024047291206 (variance: 0.5569697945913443)\n",
      "McLaren: -0.12321676048879338 (variance: 0.457482020968261)\n",
      "AlphaTauri: -0.1088062211789774 (variance: 0.7254263279475092)\n",
      "Renault: 0.05451186317891398 (variance: 0.4333340223529851)\n",
      "Racing Point: 0.09222353882658099 (variance: 0.5873920009485941)\n",
      "Haas F1 Team: 0.16713479292985609 (variance: 0.7111505230839342)\n",
      "Alfa Romeo: 0.24857789528544452 (variance: 0.7857381292264944)\n",
      "Williams: 0.4975486038871232 (variance: 0.5959877343462551)\n"
     ]
    }
   ],
   "source": [
    "print(\"Constructor insights:\")\n",
    "constructorsByScore = []\n",
    "constructors = set()\n",
    "for did in newDrivers:\n",
    "    if linearModel.drivers[did].constructor.name not in constructors:\n",
    "        constructorsByScore.append((linearModel.drivers[did].constructor.name, linearModel.drivers[did].constructor.pwr, linearModel.drivers[did].constructor.variance))\n",
    "        constructors.add(linearModel.drivers[did].constructor.name)\n",
    "\n",
    "constructorsByScore.sort(key=lambda tup: tup[1])\n",
    "for name, score, variance in constructorsByScore:\n",
    "    print(\"{}: {} (variance: {})\".format(name, score, variance))"
   ]
  },
  {
   "cell_type": "code",
   "execution_count": 11,
   "metadata": {},
   "outputs": [
    {
     "name": "stdout",
     "output_type": "stream",
     "text": [
      "Engine insights:\n",
      "Mercedes: -0.2088155080259315 (variance: 0.377597641403132)\n",
      "Renault: -0.05747576814101211 (variance: 0.42442954099916375)\n",
      "Ferrari: 0.10234299743653584 (variance: 0.5946544188730853)\n",
      "Honda: 0.7462527773127058 (variance: 0.8473386339260378)\n"
     ]
    }
   ],
   "source": [
    "print(\"Engine insights:\")\n",
    "enginesByScore = []\n",
    "engines = set()\n",
    "for did in newDrivers:\n",
    "    if linearModel.drivers[did].constructor.engine.name not in engines:\n",
    "        enginesByScore.append((linearModel.drivers[did].constructor.engine.name, linearModel.drivers[did].constructor.engine.pwr, linearModel.drivers[did].constructor.engine.variance))\n",
    "        engines.add(linearModel.drivers[did].constructor.engine.name)\n",
    "\n",
    "enginesByScore.sort(key=lambda tup: tup[1])\n",
    "for name, score, variance in enginesByScore:\n",
    "    print(\"{}: {} (variance: {})\".format(name, score, variance))"
   ]
  },
  {
   "cell_type": "code",
   "execution_count": null,
   "metadata": {},
   "outputs": [],
   "source": []
  }
 ],
 "metadata": {
  "kernelspec": {
   "display_name": "Python 3",
   "language": "python",
   "name": "python3"
  },
  "language_info": {
   "codemirror_mode": {
    "name": "ipython",
    "version": 3
   },
   "file_extension": ".py",
   "mimetype": "text/x-python",
   "name": "python",
   "nbconvert_exporter": "python",
   "pygments_lexer": "ipython3",
   "version": "3.7.7"
  }
 },
 "nbformat": 4,
 "nbformat_minor": 2
}
